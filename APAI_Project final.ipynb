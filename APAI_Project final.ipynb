{
  "nbformat": 4,
  "nbformat_minor": 0,
  "metadata": {
    "colab": {
      "provenance": [],
      "gpuType": "T4"
    },
    "kernelspec": {
      "name": "python3",
      "display_name": "Python 3"
    },
    "language_info": {
      "name": "python"
    },
    "accelerator": "GPU"
  },
  "cells": [
    {
      "cell_type": "code",
      "execution_count": null,
      "metadata": {
        "id": "Ft6V1AgwwQ1Y",
        "colab": {
          "base_uri": "https://localhost:8080/"
        },
        "outputId": "6aa6f246-fd80-4947-a5a0-3bd7f7af759b"
      },
      "outputs": [
        {
          "output_type": "stream",
          "name": "stdout",
          "text": [
            "Using device: cuda\n"
          ]
        }
      ],
      "source": [
        "# ===================== Cell 1: Imports & Config =====================\n",
        "import torch\n",
        "import torch.nn as nn\n",
        "import torch.optim as optim\n",
        "import torchvision\n",
        "from torchvision import datasets, transforms\n",
        "from torch.utils.data import DataLoader, Dataset, Subset\n",
        "import numpy as np\n",
        "from tqdm import tqdm\n",
        "import random\n",
        "import matplotlib.pyplot as plt\n",
        "import seaborn as sns\n",
        "from collections import defaultdict\n",
        "import torch.nn.functional as F\n",
        "\n",
        "# ========== Editable Experiment Config ==========\n",
        "num_tasks = 5           # Number of tasks to split (50 classes total)\n",
        "buffer_size = 2000      # Total replay / exemplar memory size\n",
        "memory_batch_size = 64  # Number of replay samples per training batch (fix for NaNs)\n",
        "ewc_lambda = 2500       # Regularizer strength (EWC or MAS)\n",
        "use_icarl = False       # Use iCaRL memory instead of vanilla replay buffer\n",
        "regularizer = 'ewc'     # 'ewc', 'mas', or None\n",
        "num_epochs = 25         # Epochs per task\n",
        "batch_size = 64         # Training batch size\n",
        "device = torch.device(\"cuda\" if torch.cuda.is_available() else \"cpu\")\n",
        "\n",
        "# For reproducibility\n",
        "torch.manual_seed(42)\n",
        "np.random.seed(42)\n",
        "random.seed(42)\n",
        "\n",
        "print(f\"Using device: {device}\")\n"
      ]
    },
    {
      "cell_type": "code",
      "source": [
        "# ===================== Cell 2: Dataset, Data Utilities =====================\n",
        "class TransformedSubset(Dataset):\n",
        "    def __init__(self, dataset, indices, transform=None):\n",
        "        self.dataset = dataset\n",
        "        self.indices = indices\n",
        "        self.transform = transform\n",
        "\n",
        "    def __getitem__(self, idx):\n",
        "        x, y = self.dataset[self.indices[idx]]\n",
        "        return (self.transform(x) if self.transform else x), y\n",
        "\n",
        "    def __len__(self):\n",
        "        return len(self.indices)\n",
        "\n",
        "class CIFAR50Incremental:\n",
        "    def __init__(self, root='./data', num_tasks=5, initial_shuffle=True):\n",
        "        self.root = root\n",
        "        self.num_tasks = num_tasks\n",
        "        self.classes_per_task = 50 // num_tasks\n",
        "        self.total_classes = 50\n",
        "\n",
        "        self.train_transform = transforms.Compose([\n",
        "            transforms.RandomCrop(32, padding=4),\n",
        "            transforms.RandomHorizontalFlip(),\n",
        "            transforms.ToTensor(),\n",
        "            transforms.Normalize((0.5071, 0.4867, 0.4408), (0.2675, 0.2565, 0.2761))\n",
        "        ])\n",
        "        self.test_transform = transforms.Compose([\n",
        "            transforms.ToTensor(),\n",
        "            transforms.Normalize((0.5071, 0.4867, 0.4408), (0.2675, 0.2565, 0.2761))\n",
        "        ])\n",
        "\n",
        "        full_train = datasets.CIFAR100(root=root, train=True, download=True)\n",
        "        full_test = datasets.CIFAR100(root=root, train=False, download=True)\n",
        "        selected_classes = np.arange(50)\n",
        "        train_idx = [i for i, (_, y) in enumerate(full_train) if y in selected_classes]\n",
        "        test_idx = [i for i, (_, y) in enumerate(full_test) if y in selected_classes]\n",
        "\n",
        "        self.base_train = TransformedSubset(full_train, train_idx)\n",
        "        self.base_test = TransformedSubset(full_test, test_idx)\n",
        "\n",
        "        self.class_order = np.arange(50)\n",
        "        if initial_shuffle:\n",
        "            np.random.shuffle(self.class_order)\n",
        "\n",
        "    def get_task_data(self, task_id):\n",
        "        assert 0 <= task_id < self.num_tasks\n",
        "        start = task_id * self.classes_per_task\n",
        "        end = (task_id + 1) * self.classes_per_task\n",
        "        task_classes = self.class_order[start:end]\n",
        "\n",
        "        train_mask = np.isin(np.array([y for _, y in self.base_train]), task_classes)\n",
        "        test_mask = np.isin(np.array([y for _, y in self.base_test]), task_classes)\n",
        "\n",
        "        train_subset = TransformedSubset(self.base_train, np.where(train_mask)[0], self.train_transform)\n",
        "        test_subset = TransformedSubset(self.base_test, np.where(test_mask)[0], self.test_transform)\n",
        "        return train_subset, test_subset, task_classes\n"
      ],
      "metadata": {
        "id": "htP4WUJMwg1e"
      },
      "execution_count": null,
      "outputs": []
    },
    {
      "cell_type": "code",
      "source": [
        "# ===================== Cell 3: Model (ResNet18 w/ Attention) =====================\n",
        "class AttentionLayer(nn.Module):\n",
        "    def __init__(self, features):\n",
        "        super().__init__()\n",
        "        self.attention = nn.Sequential(\n",
        "            nn.Linear(features, features//4),\n",
        "            nn.ReLU(),\n",
        "            nn.Linear(features//4, features),\n",
        "            nn.Sigmoid()\n",
        "        )\n",
        "    def forward(self, x):\n",
        "        attn_weights = self.attention(x.mean(dim=[2,3]))\n",
        "        return x * attn_weights.unsqueeze(-1).unsqueeze(-1)\n",
        "\n",
        "class AttnBasicBlock(nn.Module):\n",
        "    expansion = 1\n",
        "    def __init__(self, in_planes, planes, stride=1):\n",
        "        super().__init__()\n",
        "        self.conv1 = nn.Conv2d(in_planes, planes, kernel_size=3, stride=stride, padding=1, bias=False)\n",
        "        self.bn1 = nn.BatchNorm2d(planes)\n",
        "        self.conv2 = nn.Conv2d(planes, planes, kernel_size=3, stride=1, padding=1, bias=False)\n",
        "        self.bn2 = nn.BatchNorm2d(planes)\n",
        "        self.attn = AttentionLayer(planes * self.expansion)\n",
        "        self.shortcut = nn.Sequential()\n",
        "        if stride != 1 or in_planes != self.expansion*planes:\n",
        "            self.shortcut = nn.Sequential(\n",
        "                nn.Conv2d(in_planes, self.expansion*planes, kernel_size=1, stride=stride, bias=False),\n",
        "                nn.BatchNorm2d(self.expansion*planes)\n",
        "            )\n",
        "    def forward(self, x):\n",
        "        out = F.relu(self.bn1(self.conv1(x)))\n",
        "        out = self.bn2(self.conv2(out))\n",
        "        out += self.shortcut(x)\n",
        "        out = F.relu(out)\n",
        "        return self.attn(out)\n",
        "\n",
        "class ResNet(nn.Module):\n",
        "    def __init__(self, block, num_blocks, num_classes=50):\n",
        "        super().__init__()\n",
        "        self.in_planes = 64\n",
        "        self.conv1 = nn.Conv2d(3, 64, kernel_size=3, stride=1, padding=1, bias=False)\n",
        "        self.bn1 = nn.BatchNorm2d(64)\n",
        "        self.layer1 = self._make_layer(block, 64, num_blocks[0], stride=1)\n",
        "        self.layer2 = self._make_layer(block, 128, num_blocks[1], stride=2)\n",
        "        self.layer3 = self._make_layer(block, 256, num_blocks[2], stride=2)\n",
        "        self.layer4 = self._make_layer(block, 512, num_blocks[3], stride=2)\n",
        "        self.linear = nn.Linear(512*block.expansion, num_classes)\n",
        "    def _make_layer(self, block, planes, num_blocks, stride):\n",
        "        strides = [stride] + [1]*(num_blocks-1)\n",
        "        layers = []\n",
        "        for stride in strides:\n",
        "            layers.append(block(self.in_planes, planes, stride))\n",
        "            self.in_planes = planes * block.expansion\n",
        "        return nn.Sequential(*layers)\n",
        "    def forward(self, x):\n",
        "        out = F.relu(self.bn1(self.conv1(x)))\n",
        "        out = self.layer1(out)\n",
        "        out = self.layer2(out)\n",
        "        out = self.layer3(out)\n",
        "        out = self.layer4(out)\n",
        "        out = F.avg_pool2d(out, 4)\n",
        "        out = out.view(out.size(0), -1)\n",
        "        out = self.linear(out)\n",
        "        return out\n",
        "\n",
        "def ResNet18(num_classes=50):\n",
        "    return ResNet(AttnBasicBlock, [2, 2, 2, 2], num_classes)\n"
      ],
      "metadata": {
        "id": "2ffjaWqR_OPT"
      },
      "execution_count": null,
      "outputs": []
    },
    {
      "cell_type": "code",
      "source": [
        "# ===================== Cell 4: Replay & Exemplar Memory =====================\n",
        "class ReplayBuffer:\n",
        "    def __init__(self, buffer_size=2000):\n",
        "        self.buffer_size = buffer_size\n",
        "        self.images, self.labels = [], []\n",
        "    def add(self, x, y):\n",
        "        for xi, yi in zip(x, y):\n",
        "            if len(self.images) < self.buffer_size:\n",
        "                self.images.append(xi.cpu() if xi.is_cuda else xi)\n",
        "                self.labels.append(int(yi))\n",
        "            else:\n",
        "                idx = np.random.randint(0, self.buffer_size)\n",
        "                self.images[idx] = xi.cpu() if xi.is_cuda else xi\n",
        "                self.labels[idx] = int(yi)\n",
        "    def sample(self, n):\n",
        "        if len(self.images) == 0:\n",
        "            return [], []\n",
        "        idxs = np.random.choice(len(self.images), n, replace=len(self.images)<n)\n",
        "        xs = torch.stack([self.images[i] for i in idxs])\n",
        "        ys = torch.tensor([self.labels[i] for i in idxs])\n",
        "        return xs, ys\n",
        "\n",
        "class iCaRLExemplarMemory:\n",
        "    def __init__(self, memory_size, feature_extractor):\n",
        "        self.memory_size = memory_size\n",
        "        self.feature_extractor = feature_extractor\n",
        "        self.exemplar_sets = defaultdict(list)\n",
        "        self.class_order = []\n",
        "    def construct_exemplar_set(self, loader, class_label, m):\n",
        "        X = []\n",
        "        for x, y in loader:\n",
        "            if y[0] == class_label:\n",
        "                X.append(x.to(device))\n",
        "        if len(X) == 0: return\n",
        "        feats = torch.cat([self.feature_extractor(x.unsqueeze(0)) for x in X], 0)\n",
        "        class_mean = feats.mean(0)\n",
        "        selected, mean_so_far = [], torch.zeros_like(class_mean)\n",
        "        for _ in range(m):\n",
        "            remain = [i for i in range(len(X)) if i not in selected]\n",
        "            best_i, min_dist = None, float('inf')\n",
        "            for i in remain:\n",
        "                candidate = (mean_so_far + feats[i]) / (len(selected) + 1)\n",
        "                dist = torch.norm(class_mean - candidate)\n",
        "                if dist < min_dist:\n",
        "                    best_i, min_dist = i, dist\n",
        "            selected.append(best_i)\n",
        "            mean_so_far += feats[best_i]\n",
        "        self.exemplar_sets[class_label] = [X[i].cpu() for i in selected]\n",
        "    def reduce(self, new_total):\n",
        "        per_class = max(1, new_total // max(1, len(self.exemplar_sets)))\n",
        "        for cls in self.exemplar_sets:\n",
        "            self.exemplar_sets[cls] = self.exemplar_sets[cls][:per_class]\n",
        "    def get_all(self, n=memory_batch_size):\n",
        "        exemplars, labels = [], []\n",
        "        for cls in self.exemplar_sets:\n",
        "            exemplars += self.exemplar_sets[cls]\n",
        "            labels += [cls]*len(self.exemplar_sets[cls])\n",
        "        if len(exemplars) == 0:\n",
        "            return [], []\n",
        "        idxs = np.random.choice(len(exemplars), min(n, len(exemplars)), replace=False)\n",
        "        ex = [exemplars[i] for i in idxs]\n",
        "        ey = [labels[i] for i in idxs]\n",
        "        return ex, ey\n"
      ],
      "metadata": {
        "id": "89735HX3wk9n"
      },
      "execution_count": null,
      "outputs": []
    },
    {
      "cell_type": "code",
      "source": [
        "# ===================== Cell 5: Regularizers: EWC, MAS =====================\n",
        "class EnhancedEWC:\n",
        "    def __init__(self, model, dataloader, device):\n",
        "        self.model = model\n",
        "        self.device = device\n",
        "        self.importance = {}\n",
        "        self.params = {n: p.detach().clone() for n, p in model.named_parameters() if p.requires_grad}\n",
        "        self.compute_fisher(dataloader)\n",
        "    def compute_fisher(self, dataloader):\n",
        "        fisher = {n: torch.zeros_like(p) for n,p in self.model.named_parameters() if p.requires_grad}\n",
        "        self.model.eval()\n",
        "        for inputs, targets in tqdm(dataloader, desc=\"EWC Fisher\"):\n",
        "            inputs,targets = inputs.to(self.device), targets.to(self.device)\n",
        "            self.model.zero_grad()\n",
        "            outputs = self.model(inputs)\n",
        "            loss = F.cross_entropy(outputs, targets)\n",
        "            loss.backward()\n",
        "            for n,p in self.model.named_parameters():\n",
        "                if p.grad is not None: fisher[n] += p.grad.data.pow(2) / len(dataloader)\n",
        "        self.importance = fisher\n",
        "    def penalty(self, model, lambda_=ewc_lambda):\n",
        "        loss = 0\n",
        "        for n, p in model.named_parameters():\n",
        "            if n in self.importance:\n",
        "                loss += (self.importance[n] * (p - self.params[n]).pow(2)).sum()\n",
        "        return lambda_ * loss\n",
        "\n",
        "class MAS:\n",
        "    def __init__(self, model, dataloader, device):\n",
        "        self.model = model\n",
        "        self.device = device\n",
        "        self.importance = self.compute_importance(dataloader)\n",
        "        self.params = {n: p.detach().clone() for n,p in model.named_parameters() if p.requires_grad}\n",
        "    def compute_importance(self, dataloader):\n",
        "        importance = {n: torch.zeros_like(p) for n,p in self.model.named_parameters() if p.requires_grad}\n",
        "        self.model.eval()\n",
        "        for x, _ in tqdm(dataloader, desc=\"MAS importance\"):\n",
        "            x = x.to(self.device)\n",
        "            self.model.zero_grad()\n",
        "            outputs = self.model(x)\n",
        "            outputs.abs().sum().backward()\n",
        "            for n,p in self.model.named_parameters():\n",
        "                if p.grad is not None: importance[n] += p.grad.abs() / len(dataloader)\n",
        "        return importance\n",
        "    def penalty(self, model, lambda_=ewc_lambda):\n",
        "        loss = 0\n",
        "        for n, p in model.named_parameters():\n",
        "            loss += (self.importance[n] * (p-self.params[n]).pow(2)).sum()\n",
        "        return lambda_ * loss\n"
      ],
      "metadata": {
        "id": "mqO3k1whwspP"
      },
      "execution_count": null,
      "outputs": []
    },
    {
      "cell_type": "code",
      "source": [
        "# ===================== Cell 6: Training/Eval Functions (Fixed Memory Sampling + Debug) =====================\n",
        "def evaluate(model, loader):\n",
        "    model.eval()\n",
        "    correct, total = 0, 0\n",
        "    with torch.no_grad():\n",
        "        for x, y in loader:\n",
        "            x, y = x.to(device), y.to(device)\n",
        "            out = model(x)\n",
        "            pred = out.argmax(1)\n",
        "            correct += (pred == y).sum().item()\n",
        "            total += y.size(0)\n",
        "    return 100.*correct/total if total > 0 else 0.0\n",
        "\n",
        "def train_task(student, optimizer, loader, memory, teacher, reg, task_id, num_tasks):\n",
        "    student.train()\n",
        "    for epoch in range(num_epochs):\n",
        "        running_loss, correct, total = 0., 0, 0\n",
        "        total_batches = 0\n",
        "        for x, y in tqdm(loader, desc=f'Task {task_id+1} Epoch {epoch+1}'):\n",
        "            x, y = x.to(device), y.to(device)\n",
        "            # Sample limited replay memory for this batch\n",
        "            if memory is not None and (hasattr(memory, 'get_all') or hasattr(memory, 'sample')):\n",
        "                if use_icarl and hasattr(memory, 'get_all'):\n",
        "                    ex, ey = memory.get_all(n=memory_batch_size)\n",
        "                    if ex:\n",
        "                        ex = torch.stack(ex).to(device)\n",
        "                        ey = torch.tensor(ey).to(device)\n",
        "                        x = torch.cat([x, ex], dim=0)\n",
        "                        y = torch.cat([y, ey], dim=0)\n",
        "                elif hasattr(memory, 'sample'):\n",
        "                    ex, ey = memory.sample(memory_batch_size)\n",
        "                    if len(ex):\n",
        "                        x = torch.cat([x, ex.to(device)], dim=0)\n",
        "                        y = torch.cat([y, ey.to(device)], dim=0)\n",
        "\n",
        "            # Check label range\n",
        "            if y.max() >= student.linear.out_features:\n",
        "                print(f\"Label out of range ({y.max().item()}) for classifier of size {student.linear.out_features}! Skipping batch.\")\n",
        "                continue\n",
        "            # Check NaNs in input/output\n",
        "            with torch.no_grad():\n",
        "                if torch.isnan(x).any() or torch.isnan(y).any():\n",
        "                    print(\"NaN detected in inputs or targets. Skipping batch.\")\n",
        "                    continue\n",
        "            out = student(x)\n",
        "            if torch.isnan(out).any():\n",
        "                print(\"NaN detected in outputs. Skipping batch.\")\n",
        "                continue\n",
        "\n",
        "            ce_loss = F.cross_entropy(out, y)\n",
        "            kd_loss = 0\n",
        "            if teacher is not None:\n",
        "                with torch.no_grad():\n",
        "                    t_logits = teacher(x)\n",
        "                T = 2\n",
        "                kd_loss = F.kl_div(F.log_softmax(out/T, dim=1), F.softmax(t_logits/T, dim=1), reduction='batchmean') * T*T\n",
        "\n",
        "            loss = 0.5 * ce_loss + 0.5 * kd_loss\n",
        "            # if reg is not None:\n",
        "            #     loss += reg.penalty(student, lambda_=ewc_lambda)\n",
        "\n",
        "            optimizer.zero_grad()\n",
        "            loss.backward()\n",
        "            optimizer.step()\n",
        "\n",
        "            running_loss += loss.item()\n",
        "            _, pred = out.max(1)\n",
        "            total += y.size(0)\n",
        "            correct += (pred == y).sum().item()\n",
        "            total_batches += 1\n",
        "\n",
        "        if total_batches == 0:\n",
        "            print(f\"Epoch {epoch+1}: No valid batches run!\")\n",
        "        else:\n",
        "            print(f\"Epoch {epoch+1}: Loss={running_loss/total_batches:.4f}, Acc={100.*correct/total:.2f}%\")\n"
      ],
      "metadata": {
        "id": "7-VoUtiVwuUm"
      },
      "execution_count": null,
      "outputs": []
    },
    {
      "cell_type": "code",
      "source": [
        "# ===================== Cell 7: Main Loop & Plot =====================\n",
        "def main():\n",
        "    dataset = CIFAR50Incremental(num_tasks=num_tasks)\n",
        "    student = ResNet18(num_classes=50).to(device)\n",
        "    teacher = None\n",
        "\n",
        "    if use_icarl:\n",
        "        # Feature extractor is all layers except the final linear\n",
        "        feature_extractor = nn.Sequential(*(list(student.children())[:-1])).to(device)\n",
        "        memory = iCaRLExemplarMemory(memory_size=buffer_size, feature_extractor=feature_extractor)\n",
        "    else:\n",
        "        memory = ReplayBuffer(buffer_size=buffer_size)\n",
        "\n",
        "    acc_matrix = np.zeros((num_tasks, num_tasks))\n",
        "    max_acc = [0]*num_tasks\n",
        "\n",
        "    for task_id in range(num_tasks):\n",
        "        print(f\"\\n=== Task {task_id+1}/{num_tasks} ===\")\n",
        "        train_set, test_set, task_classes = dataset.get_task_data(task_id)\n",
        "        tr_loader = DataLoader(train_set, batch_size=batch_size, shuffle=True)\n",
        "        te_loader = DataLoader(test_set, batch_size=batch_size, shuffle=False)\n",
        "\n",
        "        # Populate memory buffer / iCaRL exemplars\n",
        "        if use_icarl:\n",
        "            student.eval()\n",
        "            for c in task_classes:\n",
        "                cls_loader = DataLoader([d for d in train_set if d[1] == c], batch_size=1)\n",
        "                memory.construct_exemplar_set(cls_loader, int(c), max(1, buffer_size // ((task_id + 1)*len(task_classes))))\n",
        "            memory.reduce(buffer_size)\n",
        "        else:\n",
        "            for i in range(min(buffer_size // num_tasks, len(train_set))):\n",
        "                xi, yi = train_set[i]\n",
        "                memory.add([xi], [yi])\n",
        "\n",
        "        optimizer = optim.SGD(student.parameters(), lr=0.05, momentum=0.9, weight_decay=5e-4)\n",
        "        reg = None\n",
        "        if regularizer == 'ewc' and task_id > 0:\n",
        "            reg = EnhancedEWC(student, tr_loader, device)\n",
        "        elif regularizer == 'mas' and task_id > 0:\n",
        "            reg = MAS(student, tr_loader, device)\n",
        "\n",
        "        # Set teacher for KD\n",
        "        teacher = ResNet18(num_classes=50).to(device)\n",
        "        teacher.load_state_dict(student.state_dict())\n",
        "        teacher.eval()\n",
        "\n",
        "        train_task(student, optimizer, tr_loader, memory, teacher, reg, task_id, num_tasks)\n",
        "\n",
        "        # Evaluate on all seen tasks so far\n",
        "        for eval_tid in range(task_id+1):\n",
        "            _, eval_test_set, _ = dataset.get_task_data(eval_tid)\n",
        "            eval_loader = DataLoader(eval_test_set, batch_size=batch_size, shuffle=False)\n",
        "            acc = evaluate(student, eval_loader)\n",
        "            acc_matrix[task_id, eval_tid] = acc\n",
        "            max_acc[eval_tid] = max(max_acc[eval_tid], acc)\n",
        "            print(f\"Accuracy on Task {eval_tid+1}: {acc:.2f}%\")\n",
        "\n",
        "    forgetting = [max_acc[i] - acc_matrix[-1, i] for i in range(num_tasks)]\n",
        "\n",
        "    plt.figure(figsize=(15, 5))\n",
        "    plt.subplot(1, 2, 1)\n",
        "    sns.heatmap(acc_matrix, annot=True, fmt=\".1f\", cmap=\"YlGnBu\",\n",
        "                xticklabels=[f\"T{i+1}\" for i in range(num_tasks)],\n",
        "                yticklabels=[f\"After T{i+1}\" for i in range(num_tasks)])\n",
        "    plt.title(\"Accuracy matrix\")\n",
        "\n",
        "    plt.subplot(1, 2, 2)\n",
        "    plt.plot(range(1, num_tasks + 1), forgetting, marker='o')\n",
        "    plt.xlabel(\"Task\")\n",
        "    plt.ylabel(\"Forgetting (%)\")\n",
        "    plt.title(\"Forgetting Over Tasks\")\n",
        "    plt.grid(True)\n",
        "    plt.tight_layout()\n",
        "    plt.show()\n",
        "\n",
        "if __name__ == \"__main__\":\n",
        "    # Run the full experiment\n",
        "    # Debug: check dataset and labels before training\n",
        "    dataset_check = CIFAR50Incremental(num_tasks=5)\n",
        "    train_data, test_data, classes = dataset_check.get_task_data(0)\n",
        "    print(f\"Debug - Task 0 classes: {classes}\")\n",
        "    print(f\"Debug - Train samples: {len(train_data)}, Test samples: {len(test_data)}\")\n",
        "    for x, y in DataLoader(train_data, batch_size=10):\n",
        "        print(f\"Debug - Sample labels: {y}\")\n",
        "        break\n",
        "    # Now run training and evaluation\n",
        "    main()\n"
      ],
      "metadata": {
        "id": "yU9QipIlwugY",
        "colab": {
          "base_uri": "https://localhost:8080/",
          "height": 1000
        },
        "outputId": "1a81ac89-5684-4d3e-8f51-486c825cac89"
      },
      "execution_count": null,
      "outputs": [
        {
          "output_type": "stream",
          "name": "stderr",
          "text": [
            "100%|██████████| 169M/169M [00:04<00:00, 35.2MB/s]\n"
          ]
        },
        {
          "output_type": "stream",
          "name": "stdout",
          "text": [
            "Debug - Task 0 classes: [13 39 30 45 17 48 26 25 32 19]\n",
            "Debug - Train samples: 5000, Test samples: 1000\n",
            "Debug - Sample labels: tensor([19, 39, 17, 39, 17, 45, 39, 39, 32, 30])\n",
            "\n",
            "=== Task 1/5 ===\n"
          ]
        },
        {
          "output_type": "stream",
          "name": "stderr",
          "text": [
            "Task 1 Epoch 1: 100%|██████████| 79/79 [00:14<00:00,  5.63it/s]\n"
          ]
        },
        {
          "output_type": "stream",
          "name": "stdout",
          "text": [
            "Epoch 1: Loss=1.3183, Acc=39.70%\n"
          ]
        },
        {
          "output_type": "stream",
          "name": "stderr",
          "text": [
            "Task 1 Epoch 2: 100%|██████████| 79/79 [00:12<00:00,  6.18it/s]\n"
          ]
        },
        {
          "output_type": "stream",
          "name": "stdout",
          "text": [
            "Epoch 2: Loss=0.9679, Acc=66.48%\n"
          ]
        },
        {
          "output_type": "stream",
          "name": "stderr",
          "text": [
            "Task 1 Epoch 3: 100%|██████████| 79/79 [00:13<00:00,  5.90it/s]\n"
          ]
        },
        {
          "output_type": "stream",
          "name": "stdout",
          "text": [
            "Epoch 3: Loss=0.8255, Acc=75.64%\n"
          ]
        },
        {
          "output_type": "stream",
          "name": "stderr",
          "text": [
            "Task 1 Epoch 4: 100%|██████████| 79/79 [00:12<00:00,  6.09it/s]\n"
          ]
        },
        {
          "output_type": "stream",
          "name": "stdout",
          "text": [
            "Epoch 4: Loss=0.7584, Acc=79.74%\n"
          ]
        },
        {
          "output_type": "stream",
          "name": "stderr",
          "text": [
            "Task 1 Epoch 5: 100%|██████████| 79/79 [00:13<00:00,  6.05it/s]\n"
          ]
        },
        {
          "output_type": "stream",
          "name": "stdout",
          "text": [
            "Epoch 5: Loss=0.7245, Acc=81.59%\n"
          ]
        },
        {
          "output_type": "stream",
          "name": "stderr",
          "text": [
            "Task 1 Epoch 6: 100%|██████████| 79/79 [00:13<00:00,  5.98it/s]\n"
          ]
        },
        {
          "output_type": "stream",
          "name": "stdout",
          "text": [
            "Epoch 6: Loss=0.6903, Acc=83.80%\n"
          ]
        },
        {
          "output_type": "stream",
          "name": "stderr",
          "text": [
            "Task 1 Epoch 7: 100%|██████████| 79/79 [00:13<00:00,  5.92it/s]\n"
          ]
        },
        {
          "output_type": "stream",
          "name": "stdout",
          "text": [
            "Epoch 7: Loss=0.6679, Acc=85.44%\n"
          ]
        },
        {
          "output_type": "stream",
          "name": "stderr",
          "text": [
            "Task 1 Epoch 8: 100%|██████████| 79/79 [00:13<00:00,  5.86it/s]\n"
          ]
        },
        {
          "output_type": "stream",
          "name": "stdout",
          "text": [
            "Epoch 8: Loss=0.6535, Acc=86.25%\n"
          ]
        },
        {
          "output_type": "stream",
          "name": "stderr",
          "text": [
            "Task 1 Epoch 9: 100%|██████████| 79/79 [00:13<00:00,  5.85it/s]\n"
          ]
        },
        {
          "output_type": "stream",
          "name": "stdout",
          "text": [
            "Epoch 9: Loss=0.6326, Acc=87.65%\n"
          ]
        },
        {
          "output_type": "stream",
          "name": "stderr",
          "text": [
            "Task 1 Epoch 10: 100%|██████████| 79/79 [00:13<00:00,  5.87it/s]\n"
          ]
        },
        {
          "output_type": "stream",
          "name": "stdout",
          "text": [
            "Epoch 10: Loss=0.6146, Acc=88.73%\n"
          ]
        },
        {
          "output_type": "stream",
          "name": "stderr",
          "text": [
            "Task 1 Epoch 11: 100%|██████████| 79/79 [00:13<00:00,  5.89it/s]\n"
          ]
        },
        {
          "output_type": "stream",
          "name": "stdout",
          "text": [
            "Epoch 11: Loss=0.6082, Acc=89.10%\n"
          ]
        },
        {
          "output_type": "stream",
          "name": "stderr",
          "text": [
            "Task 1 Epoch 12: 100%|██████████| 79/79 [00:13<00:00,  5.94it/s]\n"
          ]
        },
        {
          "output_type": "stream",
          "name": "stdout",
          "text": [
            "Epoch 12: Loss=0.6005, Acc=89.38%\n"
          ]
        },
        {
          "output_type": "stream",
          "name": "stderr",
          "text": [
            "Task 1 Epoch 13: 100%|██████████| 79/79 [00:13<00:00,  5.89it/s]\n"
          ]
        },
        {
          "output_type": "stream",
          "name": "stdout",
          "text": [
            "Epoch 13: Loss=0.5885, Acc=90.69%\n"
          ]
        },
        {
          "output_type": "stream",
          "name": "stderr",
          "text": [
            "Task 1 Epoch 14: 100%|██████████| 79/79 [00:13<00:00,  5.88it/s]\n"
          ]
        },
        {
          "output_type": "stream",
          "name": "stdout",
          "text": [
            "Epoch 14: Loss=0.5751, Acc=91.60%\n"
          ]
        },
        {
          "output_type": "stream",
          "name": "stderr",
          "text": [
            "Task 1 Epoch 15: 100%|██████████| 79/79 [00:13<00:00,  5.88it/s]\n"
          ]
        },
        {
          "output_type": "stream",
          "name": "stdout",
          "text": [
            "Epoch 15: Loss=0.5704, Acc=91.69%\n"
          ]
        },
        {
          "output_type": "stream",
          "name": "stderr",
          "text": [
            "Task 1 Epoch 16: 100%|██████████| 79/79 [00:13<00:00,  5.84it/s]\n"
          ]
        },
        {
          "output_type": "stream",
          "name": "stdout",
          "text": [
            "Epoch 16: Loss=0.5636, Acc=92.30%\n"
          ]
        },
        {
          "output_type": "stream",
          "name": "stderr",
          "text": [
            "Task 1 Epoch 17: 100%|██████████| 79/79 [00:13<00:00,  5.89it/s]\n"
          ]
        },
        {
          "output_type": "stream",
          "name": "stdout",
          "text": [
            "Epoch 17: Loss=0.5539, Acc=92.93%\n"
          ]
        },
        {
          "output_type": "stream",
          "name": "stderr",
          "text": [
            "Task 1 Epoch 18: 100%|██████████| 79/79 [00:13<00:00,  5.90it/s]\n"
          ]
        },
        {
          "output_type": "stream",
          "name": "stdout",
          "text": [
            "Epoch 18: Loss=0.5460, Acc=93.37%\n"
          ]
        },
        {
          "output_type": "stream",
          "name": "stderr",
          "text": [
            "Task 1 Epoch 19: 100%|██████████| 79/79 [00:13<00:00,  5.89it/s]\n"
          ]
        },
        {
          "output_type": "stream",
          "name": "stdout",
          "text": [
            "Epoch 19: Loss=0.5366, Acc=94.04%\n"
          ]
        },
        {
          "output_type": "stream",
          "name": "stderr",
          "text": [
            "Task 1 Epoch 20: 100%|██████████| 79/79 [00:13<00:00,  5.89it/s]\n"
          ]
        },
        {
          "output_type": "stream",
          "name": "stdout",
          "text": [
            "Epoch 20: Loss=0.5346, Acc=94.12%\n"
          ]
        },
        {
          "output_type": "stream",
          "name": "stderr",
          "text": [
            "Task 1 Epoch 21: 100%|██████████| 79/79 [00:13<00:00,  5.88it/s]\n"
          ]
        },
        {
          "output_type": "stream",
          "name": "stdout",
          "text": [
            "Epoch 21: Loss=0.5273, Acc=94.75%\n"
          ]
        },
        {
          "output_type": "stream",
          "name": "stderr",
          "text": [
            "Task 1 Epoch 22: 100%|██████████| 79/79 [00:13<00:00,  5.87it/s]\n"
          ]
        },
        {
          "output_type": "stream",
          "name": "stdout",
          "text": [
            "Epoch 22: Loss=0.5202, Acc=95.07%\n"
          ]
        },
        {
          "output_type": "stream",
          "name": "stderr",
          "text": [
            "Task 1 Epoch 23: 100%|██████████| 79/79 [00:13<00:00,  5.90it/s]\n"
          ]
        },
        {
          "output_type": "stream",
          "name": "stdout",
          "text": [
            "Epoch 23: Loss=0.5229, Acc=94.97%\n"
          ]
        },
        {
          "output_type": "stream",
          "name": "stderr",
          "text": [
            "Task 1 Epoch 24: 100%|██████████| 79/79 [00:13<00:00,  5.90it/s]\n"
          ]
        },
        {
          "output_type": "stream",
          "name": "stdout",
          "text": [
            "Epoch 24: Loss=0.5163, Acc=95.61%\n"
          ]
        },
        {
          "output_type": "stream",
          "name": "stderr",
          "text": [
            "Task 1 Epoch 25: 100%|██████████| 79/79 [00:13<00:00,  5.85it/s]\n"
          ]
        },
        {
          "output_type": "stream",
          "name": "stdout",
          "text": [
            "Epoch 25: Loss=0.5145, Acc=95.50%\n",
            "Accuracy on Task 1: 66.10%\n",
            "\n",
            "=== Task 2/5 ===\n"
          ]
        },
        {
          "output_type": "stream",
          "name": "stderr",
          "text": [
            "EWC Fisher: 100%|██████████| 79/79 [00:04<00:00, 17.42it/s]\n",
            "Task 2 Epoch 1: 100%|██████████| 79/79 [00:13<00:00,  5.89it/s]\n"
          ]
        },
        {
          "output_type": "stream",
          "name": "stdout",
          "text": [
            "Epoch 1: Loss=1.1330, Acc=54.88%\n"
          ]
        },
        {
          "output_type": "stream",
          "name": "stderr",
          "text": [
            "Task 2 Epoch 2: 100%|██████████| 79/79 [00:13<00:00,  5.89it/s]\n"
          ]
        },
        {
          "output_type": "stream",
          "name": "stdout",
          "text": [
            "Epoch 2: Loss=0.7611, Acc=83.28%\n"
          ]
        },
        {
          "output_type": "stream",
          "name": "stderr",
          "text": [
            "Task 2 Epoch 3: 100%|██████████| 79/79 [00:13<00:00,  5.90it/s]\n"
          ]
        },
        {
          "output_type": "stream",
          "name": "stdout",
          "text": [
            "Epoch 3: Loss=0.6747, Acc=87.82%\n"
          ]
        },
        {
          "output_type": "stream",
          "name": "stderr",
          "text": [
            "Task 2 Epoch 4: 100%|██████████| 79/79 [00:13<00:00,  5.84it/s]\n"
          ]
        },
        {
          "output_type": "stream",
          "name": "stdout",
          "text": [
            "Epoch 4: Loss=0.6366, Acc=89.85%\n"
          ]
        },
        {
          "output_type": "stream",
          "name": "stderr",
          "text": [
            "Task 2 Epoch 5: 100%|██████████| 79/79 [00:13<00:00,  5.91it/s]\n"
          ]
        },
        {
          "output_type": "stream",
          "name": "stdout",
          "text": [
            "Epoch 5: Loss=0.6042, Acc=91.50%\n"
          ]
        },
        {
          "output_type": "stream",
          "name": "stderr",
          "text": [
            "Task 2 Epoch 6: 100%|██████████| 79/79 [00:13<00:00,  5.90it/s]\n"
          ]
        },
        {
          "output_type": "stream",
          "name": "stdout",
          "text": [
            "Epoch 6: Loss=0.5880, Acc=92.29%\n"
          ]
        },
        {
          "output_type": "stream",
          "name": "stderr",
          "text": [
            "Task 2 Epoch 7: 100%|██████████| 79/79 [00:13<00:00,  5.91it/s]\n"
          ]
        },
        {
          "output_type": "stream",
          "name": "stdout",
          "text": [
            "Epoch 7: Loss=0.5750, Acc=93.34%\n"
          ]
        },
        {
          "output_type": "stream",
          "name": "stderr",
          "text": [
            "Task 2 Epoch 8: 100%|██████████| 79/79 [00:13<00:00,  5.88it/s]\n"
          ]
        },
        {
          "output_type": "stream",
          "name": "stdout",
          "text": [
            "Epoch 8: Loss=0.5620, Acc=94.06%\n"
          ]
        },
        {
          "output_type": "stream",
          "name": "stderr",
          "text": [
            "Task 2 Epoch 9: 100%|██████████| 79/79 [00:13<00:00,  5.86it/s]\n"
          ]
        },
        {
          "output_type": "stream",
          "name": "stdout",
          "text": [
            "Epoch 9: Loss=0.5507, Acc=94.63%\n"
          ]
        },
        {
          "output_type": "stream",
          "name": "stderr",
          "text": [
            "Task 2 Epoch 10: 100%|██████████| 79/79 [00:13<00:00,  5.89it/s]\n"
          ]
        },
        {
          "output_type": "stream",
          "name": "stdout",
          "text": [
            "Epoch 10: Loss=0.5377, Acc=95.20%\n"
          ]
        },
        {
          "output_type": "stream",
          "name": "stderr",
          "text": [
            "Task 2 Epoch 11: 100%|██████████| 79/79 [00:13<00:00,  5.90it/s]\n"
          ]
        },
        {
          "output_type": "stream",
          "name": "stdout",
          "text": [
            "Epoch 11: Loss=0.5292, Acc=95.54%\n"
          ]
        },
        {
          "output_type": "stream",
          "name": "stderr",
          "text": [
            "Task 2 Epoch 12: 100%|██████████| 79/79 [00:13<00:00,  5.89it/s]\n"
          ]
        },
        {
          "output_type": "stream",
          "name": "stdout",
          "text": [
            "Epoch 12: Loss=0.5273, Acc=95.87%\n"
          ]
        },
        {
          "output_type": "stream",
          "name": "stderr",
          "text": [
            "Task 2 Epoch 13: 100%|██████████| 79/79 [00:13<00:00,  5.91it/s]\n"
          ]
        },
        {
          "output_type": "stream",
          "name": "stdout",
          "text": [
            "Epoch 13: Loss=0.5181, Acc=96.11%\n"
          ]
        },
        {
          "output_type": "stream",
          "name": "stderr",
          "text": [
            "Task 2 Epoch 14: 100%|██████████| 79/79 [00:13<00:00,  5.90it/s]\n"
          ]
        },
        {
          "output_type": "stream",
          "name": "stdout",
          "text": [
            "Epoch 14: Loss=0.5097, Acc=96.61%\n"
          ]
        },
        {
          "output_type": "stream",
          "name": "stderr",
          "text": [
            "Task 2 Epoch 15: 100%|██████████| 79/79 [00:13<00:00,  5.90it/s]\n"
          ]
        },
        {
          "output_type": "stream",
          "name": "stdout",
          "text": [
            "Epoch 15: Loss=0.5138, Acc=96.60%\n"
          ]
        },
        {
          "output_type": "stream",
          "name": "stderr",
          "text": [
            "Task 2 Epoch 16: 100%|██████████| 79/79 [00:13<00:00,  5.89it/s]\n"
          ]
        },
        {
          "output_type": "stream",
          "name": "stdout",
          "text": [
            "Epoch 16: Loss=0.5059, Acc=96.91%\n"
          ]
        },
        {
          "output_type": "stream",
          "name": "stderr",
          "text": [
            "Task 2 Epoch 17: 100%|██████████| 79/79 [00:13<00:00,  5.83it/s]\n"
          ]
        },
        {
          "output_type": "stream",
          "name": "stdout",
          "text": [
            "Epoch 17: Loss=0.4991, Acc=97.32%\n"
          ]
        },
        {
          "output_type": "stream",
          "name": "stderr",
          "text": [
            "Task 2 Epoch 18: 100%|██████████| 79/79 [00:13<00:00,  5.89it/s]\n"
          ]
        },
        {
          "output_type": "stream",
          "name": "stdout",
          "text": [
            "Epoch 18: Loss=0.4996, Acc=97.16%\n"
          ]
        },
        {
          "output_type": "stream",
          "name": "stderr",
          "text": [
            "Task 2 Epoch 19: 100%|██████████| 79/79 [00:13<00:00,  5.91it/s]\n"
          ]
        },
        {
          "output_type": "stream",
          "name": "stdout",
          "text": [
            "Epoch 19: Loss=0.4901, Acc=97.87%\n"
          ]
        },
        {
          "output_type": "stream",
          "name": "stderr",
          "text": [
            "Task 2 Epoch 20: 100%|██████████| 79/79 [00:13<00:00,  5.89it/s]\n"
          ]
        },
        {
          "output_type": "stream",
          "name": "stdout",
          "text": [
            "Epoch 20: Loss=0.4838, Acc=98.01%\n"
          ]
        },
        {
          "output_type": "stream",
          "name": "stderr",
          "text": [
            "Task 2 Epoch 21: 100%|██████████| 79/79 [00:13<00:00,  5.87it/s]\n"
          ]
        },
        {
          "output_type": "stream",
          "name": "stdout",
          "text": [
            "Epoch 21: Loss=0.4838, Acc=98.16%\n"
          ]
        },
        {
          "output_type": "stream",
          "name": "stderr",
          "text": [
            "Task 2 Epoch 22: 100%|██████████| 79/79 [00:13<00:00,  5.89it/s]\n"
          ]
        },
        {
          "output_type": "stream",
          "name": "stdout",
          "text": [
            "Epoch 22: Loss=0.4810, Acc=98.10%\n"
          ]
        },
        {
          "output_type": "stream",
          "name": "stderr",
          "text": [
            "Task 2 Epoch 23: 100%|██████████| 79/79 [00:13<00:00,  5.89it/s]\n"
          ]
        },
        {
          "output_type": "stream",
          "name": "stdout",
          "text": [
            "Epoch 23: Loss=0.4843, Acc=97.91%\n"
          ]
        },
        {
          "output_type": "stream",
          "name": "stderr",
          "text": [
            "Task 2 Epoch 24: 100%|██████████| 79/79 [00:13<00:00,  5.90it/s]\n"
          ]
        },
        {
          "output_type": "stream",
          "name": "stdout",
          "text": [
            "Epoch 24: Loss=0.4879, Acc=97.66%\n"
          ]
        },
        {
          "output_type": "stream",
          "name": "stderr",
          "text": [
            "Task 2 Epoch 25: 100%|██████████| 79/79 [00:13<00:00,  5.90it/s]\n"
          ]
        },
        {
          "output_type": "stream",
          "name": "stdout",
          "text": [
            "Epoch 25: Loss=0.4840, Acc=97.93%\n",
            "Accuracy on Task 1: 44.00%\n",
            "Accuracy on Task 2: 83.10%\n",
            "\n",
            "=== Task 3/5 ===\n"
          ]
        },
        {
          "output_type": "stream",
          "name": "stderr",
          "text": [
            "EWC Fisher: 100%|██████████| 79/79 [00:04<00:00, 18.57it/s]\n",
            "Task 3 Epoch 1: 100%|██████████| 79/79 [00:13<00:00,  5.90it/s]\n"
          ]
        },
        {
          "output_type": "stream",
          "name": "stdout",
          "text": [
            "Epoch 1: Loss=1.0324, Acc=62.38%\n"
          ]
        },
        {
          "output_type": "stream",
          "name": "stderr",
          "text": [
            "Task 3 Epoch 2: 100%|██████████| 79/79 [00:13<00:00,  5.91it/s]\n"
          ]
        },
        {
          "output_type": "stream",
          "name": "stdout",
          "text": [
            "Epoch 2: Loss=0.7050, Acc=86.48%\n"
          ]
        },
        {
          "output_type": "stream",
          "name": "stderr",
          "text": [
            "Task 3 Epoch 3: 100%|██████████| 79/79 [00:13<00:00,  5.86it/s]\n"
          ]
        },
        {
          "output_type": "stream",
          "name": "stdout",
          "text": [
            "Epoch 3: Loss=0.6347, Acc=90.38%\n"
          ]
        },
        {
          "output_type": "stream",
          "name": "stderr",
          "text": [
            "Task 3 Epoch 4: 100%|██████████| 79/79 [00:13<00:00,  5.86it/s]\n"
          ]
        },
        {
          "output_type": "stream",
          "name": "stdout",
          "text": [
            "Epoch 4: Loss=0.5952, Acc=92.07%\n"
          ]
        },
        {
          "output_type": "stream",
          "name": "stderr",
          "text": [
            "Task 3 Epoch 5: 100%|██████████| 79/79 [00:13<00:00,  5.90it/s]\n"
          ]
        },
        {
          "output_type": "stream",
          "name": "stdout",
          "text": [
            "Epoch 5: Loss=0.5670, Acc=93.81%\n"
          ]
        },
        {
          "output_type": "stream",
          "name": "stderr",
          "text": [
            "Task 3 Epoch 6: 100%|██████████| 79/79 [00:13<00:00,  5.92it/s]\n"
          ]
        },
        {
          "output_type": "stream",
          "name": "stdout",
          "text": [
            "Epoch 6: Loss=0.5461, Acc=94.64%\n"
          ]
        },
        {
          "output_type": "stream",
          "name": "stderr",
          "text": [
            "Task 3 Epoch 7: 100%|██████████| 79/79 [00:13<00:00,  5.91it/s]\n"
          ]
        },
        {
          "output_type": "stream",
          "name": "stdout",
          "text": [
            "Epoch 7: Loss=0.5301, Acc=95.33%\n"
          ]
        },
        {
          "output_type": "stream",
          "name": "stderr",
          "text": [
            "Task 3 Epoch 8: 100%|██████████| 79/79 [00:13<00:00,  5.91it/s]\n"
          ]
        },
        {
          "output_type": "stream",
          "name": "stdout",
          "text": [
            "Epoch 8: Loss=0.5118, Acc=96.25%\n"
          ]
        },
        {
          "output_type": "stream",
          "name": "stderr",
          "text": [
            "Task 3 Epoch 9: 100%|██████████| 79/79 [00:13<00:00,  5.90it/s]\n"
          ]
        },
        {
          "output_type": "stream",
          "name": "stdout",
          "text": [
            "Epoch 9: Loss=0.5033, Acc=96.90%\n"
          ]
        },
        {
          "output_type": "stream",
          "name": "stderr",
          "text": [
            "Task 3 Epoch 10: 100%|██████████| 79/79 [00:13<00:00,  5.89it/s]\n"
          ]
        },
        {
          "output_type": "stream",
          "name": "stdout",
          "text": [
            "Epoch 10: Loss=0.4953, Acc=96.83%\n"
          ]
        },
        {
          "output_type": "stream",
          "name": "stderr",
          "text": [
            "Task 3 Epoch 11: 100%|██████████| 79/79 [00:13<00:00,  5.90it/s]\n"
          ]
        },
        {
          "output_type": "stream",
          "name": "stdout",
          "text": [
            "Epoch 11: Loss=0.4834, Acc=97.53%\n"
          ]
        },
        {
          "output_type": "stream",
          "name": "stderr",
          "text": [
            "Task 3 Epoch 12: 100%|██████████| 79/79 [00:13<00:00,  5.86it/s]\n"
          ]
        },
        {
          "output_type": "stream",
          "name": "stdout",
          "text": [
            "Epoch 12: Loss=0.4784, Acc=97.67%\n"
          ]
        },
        {
          "output_type": "stream",
          "name": "stderr",
          "text": [
            "Task 3 Epoch 13: 100%|██████████| 79/79 [00:13<00:00,  5.88it/s]\n"
          ]
        },
        {
          "output_type": "stream",
          "name": "stdout",
          "text": [
            "Epoch 13: Loss=0.4695, Acc=98.31%\n"
          ]
        },
        {
          "output_type": "stream",
          "name": "stderr",
          "text": [
            "Task 3 Epoch 14: 100%|██████████| 79/79 [00:13<00:00,  5.88it/s]\n"
          ]
        },
        {
          "output_type": "stream",
          "name": "stdout",
          "text": [
            "Epoch 14: Loss=0.4673, Acc=98.44%\n"
          ]
        },
        {
          "output_type": "stream",
          "name": "stderr",
          "text": [
            "Task 3 Epoch 15: 100%|██████████| 79/79 [00:13<00:00,  5.90it/s]\n"
          ]
        },
        {
          "output_type": "stream",
          "name": "stdout",
          "text": [
            "Epoch 15: Loss=0.4656, Acc=98.23%\n"
          ]
        },
        {
          "output_type": "stream",
          "name": "stderr",
          "text": [
            "Task 3 Epoch 16: 100%|██████████| 79/79 [00:13<00:00,  5.91it/s]\n"
          ]
        },
        {
          "output_type": "stream",
          "name": "stdout",
          "text": [
            "Epoch 16: Loss=0.4676, Acc=98.15%\n"
          ]
        },
        {
          "output_type": "stream",
          "name": "stderr",
          "text": [
            "Task 3 Epoch 17: 100%|██████████| 79/79 [00:13<00:00,  5.91it/s]\n"
          ]
        },
        {
          "output_type": "stream",
          "name": "stdout",
          "text": [
            "Epoch 17: Loss=0.4588, Acc=98.55%\n"
          ]
        },
        {
          "output_type": "stream",
          "name": "stderr",
          "text": [
            "Task 3 Epoch 18: 100%|██████████| 79/79 [00:13<00:00,  5.89it/s]\n"
          ]
        },
        {
          "output_type": "stream",
          "name": "stdout",
          "text": [
            "Epoch 18: Loss=0.4535, Acc=98.73%\n"
          ]
        },
        {
          "output_type": "stream",
          "name": "stderr",
          "text": [
            "Task 3 Epoch 19: 100%|██████████| 79/79 [00:13<00:00,  5.87it/s]\n"
          ]
        },
        {
          "output_type": "stream",
          "name": "stdout",
          "text": [
            "Epoch 19: Loss=0.4576, Acc=98.77%\n"
          ]
        },
        {
          "output_type": "stream",
          "name": "stderr",
          "text": [
            "Task 3 Epoch 20: 100%|██████████| 79/79 [00:13<00:00,  5.89it/s]\n"
          ]
        },
        {
          "output_type": "stream",
          "name": "stdout",
          "text": [
            "Epoch 20: Loss=0.4509, Acc=99.03%\n"
          ]
        },
        {
          "output_type": "stream",
          "name": "stderr",
          "text": [
            "Task 3 Epoch 21: 100%|██████████| 79/79 [00:13<00:00,  5.87it/s]\n"
          ]
        },
        {
          "output_type": "stream",
          "name": "stdout",
          "text": [
            "Epoch 21: Loss=0.4504, Acc=99.09%\n"
          ]
        },
        {
          "output_type": "stream",
          "name": "stderr",
          "text": [
            "Task 3 Epoch 22: 100%|██████████| 79/79 [00:13<00:00,  5.87it/s]\n"
          ]
        },
        {
          "output_type": "stream",
          "name": "stdout",
          "text": [
            "Epoch 22: Loss=0.4513, Acc=98.96%\n"
          ]
        },
        {
          "output_type": "stream",
          "name": "stderr",
          "text": [
            "Task 3 Epoch 23: 100%|██████████| 79/79 [00:13<00:00,  5.84it/s]\n"
          ]
        },
        {
          "output_type": "stream",
          "name": "stdout",
          "text": [
            "Epoch 23: Loss=0.4478, Acc=98.96%\n"
          ]
        },
        {
          "output_type": "stream",
          "name": "stderr",
          "text": [
            "Task 3 Epoch 24: 100%|██████████| 79/79 [00:13<00:00,  5.88it/s]\n"
          ]
        },
        {
          "output_type": "stream",
          "name": "stdout",
          "text": [
            "Epoch 24: Loss=0.4513, Acc=98.84%\n"
          ]
        },
        {
          "output_type": "stream",
          "name": "stderr",
          "text": [
            "Task 3 Epoch 25: 100%|██████████| 79/79 [00:13<00:00,  5.87it/s]\n"
          ]
        },
        {
          "output_type": "stream",
          "name": "stdout",
          "text": [
            "Epoch 25: Loss=0.4470, Acc=99.13%\n",
            "Accuracy on Task 1: 32.90%\n",
            "Accuracy on Task 2: 57.90%\n",
            "Accuracy on Task 3: 85.30%\n",
            "\n",
            "=== Task 4/5 ===\n"
          ]
        },
        {
          "output_type": "stream",
          "name": "stderr",
          "text": [
            "EWC Fisher: 100%|██████████| 79/79 [00:04<00:00, 18.31it/s]\n",
            "Task 4 Epoch 1: 100%|██████████| 79/79 [00:13<00:00,  5.90it/s]\n"
          ]
        },
        {
          "output_type": "stream",
          "name": "stdout",
          "text": [
            "Epoch 1: Loss=0.9763, Acc=65.46%\n"
          ]
        },
        {
          "output_type": "stream",
          "name": "stderr",
          "text": [
            "Task 4 Epoch 2: 100%|██████████| 79/79 [00:13<00:00,  5.88it/s]\n"
          ]
        },
        {
          "output_type": "stream",
          "name": "stdout",
          "text": [
            "Epoch 2: Loss=0.6981, Acc=84.97%\n"
          ]
        },
        {
          "output_type": "stream",
          "name": "stderr",
          "text": [
            "Task 4 Epoch 3: 100%|██████████| 79/79 [00:13<00:00,  5.89it/s]\n"
          ]
        },
        {
          "output_type": "stream",
          "name": "stdout",
          "text": [
            "Epoch 3: Loss=0.6309, Acc=89.29%\n"
          ]
        },
        {
          "output_type": "stream",
          "name": "stderr",
          "text": [
            "Task 4 Epoch 4: 100%|██████████| 79/79 [00:13<00:00,  5.88it/s]\n"
          ]
        },
        {
          "output_type": "stream",
          "name": "stdout",
          "text": [
            "Epoch 4: Loss=0.5912, Acc=91.68%\n"
          ]
        },
        {
          "output_type": "stream",
          "name": "stderr",
          "text": [
            "Task 4 Epoch 5: 100%|██████████| 79/79 [00:13<00:00,  5.88it/s]\n"
          ]
        },
        {
          "output_type": "stream",
          "name": "stdout",
          "text": [
            "Epoch 5: Loss=0.5602, Acc=93.48%\n"
          ]
        },
        {
          "output_type": "stream",
          "name": "stderr",
          "text": [
            "Task 4 Epoch 6: 100%|██████████| 79/79 [00:13<00:00,  5.87it/s]\n"
          ]
        },
        {
          "output_type": "stream",
          "name": "stdout",
          "text": [
            "Epoch 6: Loss=0.5521, Acc=93.36%\n"
          ]
        },
        {
          "output_type": "stream",
          "name": "stderr",
          "text": [
            "Task 4 Epoch 7: 100%|██████████| 79/79 [00:13<00:00,  5.91it/s]\n"
          ]
        },
        {
          "output_type": "stream",
          "name": "stdout",
          "text": [
            "Epoch 7: Loss=0.5346, Acc=94.77%\n"
          ]
        },
        {
          "output_type": "stream",
          "name": "stderr",
          "text": [
            "Task 4 Epoch 8: 100%|██████████| 79/79 [00:13<00:00,  5.92it/s]\n"
          ]
        },
        {
          "output_type": "stream",
          "name": "stdout",
          "text": [
            "Epoch 8: Loss=0.5131, Acc=95.63%\n"
          ]
        },
        {
          "output_type": "stream",
          "name": "stderr",
          "text": [
            "Task 4 Epoch 9: 100%|██████████| 79/79 [00:13<00:00,  5.89it/s]\n"
          ]
        },
        {
          "output_type": "stream",
          "name": "stdout",
          "text": [
            "Epoch 9: Loss=0.5142, Acc=95.53%\n"
          ]
        },
        {
          "output_type": "stream",
          "name": "stderr",
          "text": [
            "Task 4 Epoch 10: 100%|██████████| 79/79 [00:13<00:00,  5.86it/s]\n"
          ]
        },
        {
          "output_type": "stream",
          "name": "stdout",
          "text": [
            "Epoch 10: Loss=0.4992, Acc=96.33%\n"
          ]
        },
        {
          "output_type": "stream",
          "name": "stderr",
          "text": [
            "Task 4 Epoch 11: 100%|██████████| 79/79 [00:13<00:00,  5.88it/s]\n"
          ]
        },
        {
          "output_type": "stream",
          "name": "stdout",
          "text": [
            "Epoch 11: Loss=0.4960, Acc=96.28%\n"
          ]
        },
        {
          "output_type": "stream",
          "name": "stderr",
          "text": [
            "Task 4 Epoch 12: 100%|██████████| 79/79 [00:13<00:00,  5.90it/s]\n"
          ]
        },
        {
          "output_type": "stream",
          "name": "stdout",
          "text": [
            "Epoch 12: Loss=0.4870, Acc=96.79%\n"
          ]
        },
        {
          "output_type": "stream",
          "name": "stderr",
          "text": [
            "Task 4 Epoch 13: 100%|██████████| 79/79 [00:13<00:00,  5.91it/s]\n"
          ]
        },
        {
          "output_type": "stream",
          "name": "stdout",
          "text": [
            "Epoch 13: Loss=0.4859, Acc=96.68%\n"
          ]
        },
        {
          "output_type": "stream",
          "name": "stderr",
          "text": [
            "Task 4 Epoch 14: 100%|██████████| 79/79 [00:13<00:00,  5.91it/s]\n"
          ]
        },
        {
          "output_type": "stream",
          "name": "stdout",
          "text": [
            "Epoch 14: Loss=0.4739, Acc=97.62%\n"
          ]
        },
        {
          "output_type": "stream",
          "name": "stderr",
          "text": [
            "Task 4 Epoch 15: 100%|██████████| 79/79 [00:13<00:00,  5.84it/s]\n"
          ]
        },
        {
          "output_type": "stream",
          "name": "stdout",
          "text": [
            "Epoch 15: Loss=0.4824, Acc=97.13%\n"
          ]
        },
        {
          "output_type": "stream",
          "name": "stderr",
          "text": [
            "Task 4 Epoch 16: 100%|██████████| 79/79 [00:13<00:00,  5.87it/s]\n"
          ]
        },
        {
          "output_type": "stream",
          "name": "stdout",
          "text": [
            "Epoch 16: Loss=0.4711, Acc=97.74%\n"
          ]
        },
        {
          "output_type": "stream",
          "name": "stderr",
          "text": [
            "Task 4 Epoch 17: 100%|██████████| 79/79 [00:13<00:00,  5.90it/s]\n"
          ]
        },
        {
          "output_type": "stream",
          "name": "stdout",
          "text": [
            "Epoch 17: Loss=0.4668, Acc=97.68%\n"
          ]
        },
        {
          "output_type": "stream",
          "name": "stderr",
          "text": [
            "Task 4 Epoch 18: 100%|██████████| 79/79 [00:13<00:00,  5.90it/s]\n"
          ]
        },
        {
          "output_type": "stream",
          "name": "stdout",
          "text": [
            "Epoch 18: Loss=0.4625, Acc=98.16%\n"
          ]
        },
        {
          "output_type": "stream",
          "name": "stderr",
          "text": [
            "Task 4 Epoch 19: 100%|██████████| 79/79 [00:13<00:00,  5.87it/s]\n"
          ]
        },
        {
          "output_type": "stream",
          "name": "stdout",
          "text": [
            "Epoch 19: Loss=0.4614, Acc=98.09%\n"
          ]
        },
        {
          "output_type": "stream",
          "name": "stderr",
          "text": [
            "Task 4 Epoch 20: 100%|██████████| 79/79 [00:13<00:00,  5.89it/s]\n"
          ]
        },
        {
          "output_type": "stream",
          "name": "stdout",
          "text": [
            "Epoch 20: Loss=0.4613, Acc=97.87%\n"
          ]
        },
        {
          "output_type": "stream",
          "name": "stderr",
          "text": [
            "Task 4 Epoch 21: 100%|██████████| 79/79 [00:13<00:00,  5.90it/s]\n"
          ]
        },
        {
          "output_type": "stream",
          "name": "stdout",
          "text": [
            "Epoch 21: Loss=0.4662, Acc=97.67%\n"
          ]
        },
        {
          "output_type": "stream",
          "name": "stderr",
          "text": [
            "Task 4 Epoch 22: 100%|██████████| 79/79 [00:13<00:00,  5.90it/s]\n"
          ]
        },
        {
          "output_type": "stream",
          "name": "stdout",
          "text": [
            "Epoch 22: Loss=0.4650, Acc=97.96%\n"
          ]
        },
        {
          "output_type": "stream",
          "name": "stderr",
          "text": [
            "Task 4 Epoch 23: 100%|██████████| 79/79 [00:13<00:00,  5.87it/s]\n"
          ]
        },
        {
          "output_type": "stream",
          "name": "stdout",
          "text": [
            "Epoch 23: Loss=0.4543, Acc=98.41%\n"
          ]
        },
        {
          "output_type": "stream",
          "name": "stderr",
          "text": [
            "Task 4 Epoch 24: 100%|██████████| 79/79 [00:13<00:00,  5.85it/s]\n"
          ]
        },
        {
          "output_type": "stream",
          "name": "stdout",
          "text": [
            "Epoch 24: Loss=0.4586, Acc=98.28%\n"
          ]
        },
        {
          "output_type": "stream",
          "name": "stderr",
          "text": [
            "Task 4 Epoch 25: 100%|██████████| 79/79 [00:13<00:00,  5.89it/s]\n"
          ]
        },
        {
          "output_type": "stream",
          "name": "stdout",
          "text": [
            "Epoch 25: Loss=0.4590, Acc=98.12%\n",
            "Accuracy on Task 1: 23.40%\n",
            "Accuracy on Task 2: 34.70%\n",
            "Accuracy on Task 3: 54.70%\n",
            "Accuracy on Task 4: 80.80%\n",
            "\n",
            "=== Task 5/5 ===\n"
          ]
        },
        {
          "output_type": "stream",
          "name": "stderr",
          "text": [
            "EWC Fisher: 100%|██████████| 79/79 [00:04<00:00, 18.17it/s]\n",
            "Task 5 Epoch 1: 100%|██████████| 79/79 [00:13<00:00,  5.88it/s]\n"
          ]
        },
        {
          "output_type": "stream",
          "name": "stdout",
          "text": [
            "Epoch 1: Loss=1.0002, Acc=64.05%\n"
          ]
        },
        {
          "output_type": "stream",
          "name": "stderr",
          "text": [
            "Task 5 Epoch 2: 100%|██████████| 79/79 [00:13<00:00,  5.87it/s]\n"
          ]
        },
        {
          "output_type": "stream",
          "name": "stdout",
          "text": [
            "Epoch 2: Loss=0.7605, Acc=83.20%\n"
          ]
        },
        {
          "output_type": "stream",
          "name": "stderr",
          "text": [
            "Task 5 Epoch 3: 100%|██████████| 79/79 [00:13<00:00,  5.90it/s]\n"
          ]
        },
        {
          "output_type": "stream",
          "name": "stdout",
          "text": [
            "Epoch 3: Loss=0.6879, Acc=87.59%\n"
          ]
        },
        {
          "output_type": "stream",
          "name": "stderr",
          "text": [
            "Task 5 Epoch 4: 100%|██████████| 79/79 [00:13<00:00,  5.87it/s]\n"
          ]
        },
        {
          "output_type": "stream",
          "name": "stdout",
          "text": [
            "Epoch 4: Loss=0.6280, Acc=91.12%\n"
          ]
        },
        {
          "output_type": "stream",
          "name": "stderr",
          "text": [
            "Task 5 Epoch 5: 100%|██████████| 79/79 [00:13<00:00,  5.90it/s]\n"
          ]
        },
        {
          "output_type": "stream",
          "name": "stdout",
          "text": [
            "Epoch 5: Loss=0.5960, Acc=92.75%\n"
          ]
        },
        {
          "output_type": "stream",
          "name": "stderr",
          "text": [
            "Task 5 Epoch 6: 100%|██████████| 79/79 [00:13<00:00,  5.91it/s]\n"
          ]
        },
        {
          "output_type": "stream",
          "name": "stdout",
          "text": [
            "Epoch 6: Loss=0.5536, Acc=94.61%\n"
          ]
        },
        {
          "output_type": "stream",
          "name": "stderr",
          "text": [
            "Task 5 Epoch 7: 100%|██████████| 79/79 [00:13<00:00,  5.86it/s]\n"
          ]
        },
        {
          "output_type": "stream",
          "name": "stdout",
          "text": [
            "Epoch 7: Loss=0.5398, Acc=94.93%\n"
          ]
        },
        {
          "output_type": "stream",
          "name": "stderr",
          "text": [
            "Task 5 Epoch 8: 100%|██████████| 79/79 [00:13<00:00,  5.88it/s]\n"
          ]
        },
        {
          "output_type": "stream",
          "name": "stdout",
          "text": [
            "Epoch 8: Loss=0.5238, Acc=96.05%\n"
          ]
        },
        {
          "output_type": "stream",
          "name": "stderr",
          "text": [
            "Task 5 Epoch 9: 100%|██████████| 79/79 [00:13<00:00,  5.91it/s]\n"
          ]
        },
        {
          "output_type": "stream",
          "name": "stdout",
          "text": [
            "Epoch 9: Loss=0.5120, Acc=96.39%\n"
          ]
        },
        {
          "output_type": "stream",
          "name": "stderr",
          "text": [
            "Task 5 Epoch 10: 100%|██████████| 79/79 [00:13<00:00,  5.88it/s]\n"
          ]
        },
        {
          "output_type": "stream",
          "name": "stdout",
          "text": [
            "Epoch 10: Loss=0.5028, Acc=96.69%\n"
          ]
        },
        {
          "output_type": "stream",
          "name": "stderr",
          "text": [
            "Task 5 Epoch 11: 100%|██████████| 79/79 [00:13<00:00,  5.88it/s]\n"
          ]
        },
        {
          "output_type": "stream",
          "name": "stdout",
          "text": [
            "Epoch 11: Loss=0.4957, Acc=96.98%\n"
          ]
        },
        {
          "output_type": "stream",
          "name": "stderr",
          "text": [
            "Task 5 Epoch 12: 100%|██████████| 79/79 [00:13<00:00,  5.89it/s]\n"
          ]
        },
        {
          "output_type": "stream",
          "name": "stdout",
          "text": [
            "Epoch 12: Loss=0.4808, Acc=97.75%\n"
          ]
        },
        {
          "output_type": "stream",
          "name": "stderr",
          "text": [
            "Task 5 Epoch 13: 100%|██████████| 79/79 [00:13<00:00,  5.90it/s]\n"
          ]
        },
        {
          "output_type": "stream",
          "name": "stdout",
          "text": [
            "Epoch 13: Loss=0.4789, Acc=97.79%\n"
          ]
        },
        {
          "output_type": "stream",
          "name": "stderr",
          "text": [
            "Task 5 Epoch 14: 100%|██████████| 79/79 [00:13<00:00,  5.90it/s]\n"
          ]
        },
        {
          "output_type": "stream",
          "name": "stdout",
          "text": [
            "Epoch 14: Loss=0.4860, Acc=97.31%\n"
          ]
        },
        {
          "output_type": "stream",
          "name": "stderr",
          "text": [
            "Task 5 Epoch 15: 100%|██████████| 79/79 [00:13<00:00,  5.89it/s]\n"
          ]
        },
        {
          "output_type": "stream",
          "name": "stdout",
          "text": [
            "Epoch 15: Loss=0.4845, Acc=97.52%\n"
          ]
        },
        {
          "output_type": "stream",
          "name": "stderr",
          "text": [
            "Task 5 Epoch 16: 100%|██████████| 79/79 [00:13<00:00,  5.86it/s]\n"
          ]
        },
        {
          "output_type": "stream",
          "name": "stdout",
          "text": [
            "Epoch 16: Loss=0.4713, Acc=98.08%\n"
          ]
        },
        {
          "output_type": "stream",
          "name": "stderr",
          "text": [
            "Task 5 Epoch 17: 100%|██████████| 79/79 [00:13<00:00,  5.87it/s]\n"
          ]
        },
        {
          "output_type": "stream",
          "name": "stdout",
          "text": [
            "Epoch 17: Loss=0.4700, Acc=98.02%\n"
          ]
        },
        {
          "output_type": "stream",
          "name": "stderr",
          "text": [
            "Task 5 Epoch 18: 100%|██████████| 79/79 [00:13<00:00,  5.89it/s]\n"
          ]
        },
        {
          "output_type": "stream",
          "name": "stdout",
          "text": [
            "Epoch 18: Loss=0.4625, Acc=98.56%\n"
          ]
        },
        {
          "output_type": "stream",
          "name": "stderr",
          "text": [
            "Task 5 Epoch 19: 100%|██████████| 79/79 [00:13<00:00,  5.90it/s]\n"
          ]
        },
        {
          "output_type": "stream",
          "name": "stdout",
          "text": [
            "Epoch 19: Loss=0.4684, Acc=97.98%\n"
          ]
        },
        {
          "output_type": "stream",
          "name": "stderr",
          "text": [
            "Task 5 Epoch 20: 100%|██████████| 79/79 [00:13<00:00,  5.88it/s]\n"
          ]
        },
        {
          "output_type": "stream",
          "name": "stdout",
          "text": [
            "Epoch 20: Loss=0.4572, Acc=98.60%\n"
          ]
        },
        {
          "output_type": "stream",
          "name": "stderr",
          "text": [
            "Task 5 Epoch 21: 100%|██████████| 79/79 [00:13<00:00,  5.91it/s]\n"
          ]
        },
        {
          "output_type": "stream",
          "name": "stdout",
          "text": [
            "Epoch 21: Loss=0.4563, Acc=98.67%\n"
          ]
        },
        {
          "output_type": "stream",
          "name": "stderr",
          "text": [
            "Task 5 Epoch 22: 100%|██████████| 79/79 [00:13<00:00,  5.92it/s]\n"
          ]
        },
        {
          "output_type": "stream",
          "name": "stdout",
          "text": [
            "Epoch 22: Loss=0.4536, Acc=98.82%\n"
          ]
        },
        {
          "output_type": "stream",
          "name": "stderr",
          "text": [
            "Task 5 Epoch 23: 100%|██████████| 79/79 [00:13<00:00,  5.91it/s]\n"
          ]
        },
        {
          "output_type": "stream",
          "name": "stdout",
          "text": [
            "Epoch 23: Loss=0.4499, Acc=98.89%\n"
          ]
        },
        {
          "output_type": "stream",
          "name": "stderr",
          "text": [
            "Task 5 Epoch 24: 100%|██████████| 79/79 [00:13<00:00,  5.91it/s]\n"
          ]
        },
        {
          "output_type": "stream",
          "name": "stdout",
          "text": [
            "Epoch 24: Loss=0.4541, Acc=98.79%\n"
          ]
        },
        {
          "output_type": "stream",
          "name": "stderr",
          "text": [
            "Task 5 Epoch 25: 100%|██████████| 79/79 [00:13<00:00,  5.85it/s]\n"
          ]
        },
        {
          "output_type": "stream",
          "name": "stdout",
          "text": [
            "Epoch 25: Loss=0.4601, Acc=98.30%\n",
            "Accuracy on Task 1: 16.10%\n",
            "Accuracy on Task 2: 24.80%\n",
            "Accuracy on Task 3: 39.60%\n",
            "Accuracy on Task 4: 53.80%\n",
            "Accuracy on Task 5: 80.60%\n"
          ]
        },
        {
          "output_type": "display_data",
          "data": {
            "text/plain": [
              "<Figure size 1500x500 with 3 Axes>"
            ],
            "image/png": "[encoded data removed]"
          },
          "metadata": {}
        }
      ]
    }
  ]
}